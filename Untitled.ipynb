{
 "cells": [
  {
   "cell_type": "code",
   "execution_count": 1,
   "metadata": {
    "collapsed": false
   },
   "outputs": [],
   "source": [
    "import pandas as pd\n",
    "import fetch\n",
    "import map_ids\n",
    "from itertools import takewhile\n",
    "import sys"
   ]
  },
  {
   "cell_type": "code",
   "execution_count": 18,
   "metadata": {
    "collapsed": false
   },
   "outputs": [],
   "source": [
    "def update_taxids(merged, accessions):\n",
    "    for accession in accessions:\n",
    "        if int(accessions[accession]) in merged:\n",
    "            accessions[accession] = str(merged[int(accessions[accession])])\n",
    "    return accessions\n",
    "\n",
    "\n",
    "def map_gg_otumap_ids2taxids(gg_otumap_orig, gg_ids2taxids, gg_ids_accessions):\n",
    "    gg_otumap_taxid = {}\n",
    "    for idx in gg_otumap_orig:\n",
    "        gg_otumap_taxid[idx] = set([map_gg_id2taxid(idx, gg_ids2taxids, gg_ids_accessions)] + \n",
    "                                   [map_gg_id2taxid(jdx, gg_ids2taxids, gg_ids_accessions) for jdx in gg_otumap_orig[idx]])\n",
    "    return gg_otumap_taxid\n",
    "\n",
    "\n",
    "def map_gg_id2taxid(gg_id, gg_ids2taxids, gg_ids_accessions):\n",
    "    # step 1: map GreenGenes ID to a Genbank or IMG accession\n",
    "    accession = None\n",
    "    for db_type in gg_ids_accessions:\n",
    "        if str(gg_id) in gg_ids_accessions[db_type]:\n",
    "            accession = gg_ids_accessions[db_type][str(gg_id)]\n",
    "            break\n",
    "    \n",
    "    # step 2: map the accession to a NCBI taxonomy ID\n",
    "    taxid = int(gg_ids2taxids[accession])\n",
    "    \n",
    "    return taxid\n",
    "\n",
    "\n",
    "\n",
    "def mp_mp_clades2lca(mp_markers, mp_ids2taxids, nodes):\n",
    "    clades = {}\n",
    "    \n",
    "    for clade in mp_markers:\n",
    "        # step 1: maps accessions to NCBI taxonomy IDs\n",
    "        taxids = set()\n",
    "        for db_type in mp_markers[clade]:\n",
    "            for mp_id in mp_markers[clade][db_type]:\n",
    "                taxids.add(map_mp_id2taxid(mp_id, mp_ids2taxids))\n",
    "\n",
    "        # step 2: obtain full lineage for each taxonomy ID\n",
    "        lineages = []\n",
    "        for taxid in taxids:\n",
    "            lineage = get_lineage(int(taxid), nodes)\n",
    "            if lineage != []:\n",
    "                lineages.append(lineage)\n",
    "        \n",
    "        # step 3: find taxonomy ID of the lowest common ancestor\n",
    "        lca = get_lca(lineages)\n",
    "        suffixes = set()\n",
    "        for l in lineages:\n",
    "            for taxid in l[len(lca):]:\n",
    "                suffixes.add(taxid)\n",
    "\n",
    "        clades[clade] = {'lca': lca,\n",
    "                         'suffixes': suffixes}\n",
    "    return clades\n",
    "\n",
    "\n",
    "def map_mp_id2taxid(mp_id, mp_ids2taxids):\n",
    "    return mp_ids2taxids[mp_id]\n",
    "\n",
    "def read_mp_output(filename):\n",
    "    tree = {}\n",
    "    try:\n",
    "        file = open(filename, 'r')\n",
    "        file.readline()  # header\n",
    "        for line in file:\n",
    "            linStr, abundance = line.rstrip().split('\\t')\n",
    "            for t in tree:\n",
    "                if t in linStr:\n",
    "                    del tree[t]\n",
    "                    break\n",
    "            tree[linStr] = float(abundance)\n",
    "\n",
    "        file.close()\n",
    "        return tree\n",
    "\n",
    "    except IOError:\n",
    "        print('Cannot read file')\n",
    "\n",
    "\n",
    "def parse_ncbi_merged(filename):\n",
    "    merged = {}\n",
    "    try:\n",
    "        file = open(filename, 'r')\n",
    "        for line in file:\n",
    "            fields = line.rstrip().split('\\t|')\n",
    "            old_id, new_id = int(fields[0].rstrip()), int(fields[1])\n",
    "            merged[old_id] = new_id\n",
    "            \n",
    "        file.close()\n",
    "        return merged\n",
    "\n",
    "    except IOError:\n",
    "        print('Cannot read file')\n",
    "\n",
    "    \n",
    "def parse_ncbi_nodes(filename, abort_after_lines=20):\n",
    "    nodes = {}\n",
    "    try:\n",
    "        file = open(filename, 'r')\n",
    "        readlines = 0\n",
    "        for line in file:\n",
    "            readlines += 1\n",
    "            fields = line.split('\\t|\\t')\n",
    "            nodes[int(fields[0])] = int(fields[1])\n",
    "\n",
    "            if (abort_after_lines is not None) and \\\n",
    "               (readlines >= abort_after_lines):\n",
    "                break\n",
    "\n",
    "        file.close()\n",
    "        return nodes\n",
    "\n",
    "    except IOError:\n",
    "        print('Cannot read file')\n",
    "\n",
    "def get_lineage(taxid, taxonomy):\n",
    "    lineage = [taxid]\n",
    "    if taxid not in taxonomy:\n",
    "        print('%s not in taxonomy' % taxid, file=sys.stderr)\n",
    "        return []\n",
    "    else:\n",
    "        while taxonomy[lineage[-1]] != lineage[-1]:\n",
    "            lineage.append(taxonomy[lineage[-1]])\n",
    "        return list(reversed(lineage))\n",
    "\n",
    "def get_lca(lineages):\n",
    "    def allsame(x):\n",
    "        return len(set(x)) == 1\n",
    "\n",
    "    return [i[0] for i in takewhile(allsame, zip(*lineages))]\n"
   ]
  },
  {
   "cell_type": "code",
   "execution_count": 15,
   "metadata": {
    "collapsed": false
   },
   "outputs": [],
   "source": [
    "# NCBI Taxonomy\n",
    "nodes = parse_ncbi_nodes('/home/sjanssen/GreenGenes/NCBItaxonomy/nodes.dmp', abort_after_lines=None)\n",
    "merged = parse_ncbi_merged('/home/sjanssen/GreenGenes/NCBItaxonomy/merged.dmp')\n",
    "\n",
    "\n",
    "# Green Genes\n",
    "gg_ids2taxids = {}\n",
    "gg_ids2taxids = fetch.read_accesion_taxids('/home/sjanssen/GreenGenes/final_taxid_gg_Genbank.txt', gg_ids2taxids)\n",
    "gg_ids2taxids = fetch.read_accesion_taxids('/home/sjanssen/GreenGenes/final_taxid_gg_IMG.txt', gg_ids2taxids)\n",
    "gg_ids2taxids = update_taxids(merged, gg_ids2taxids)\n",
    "\n",
    "gg_ids_accessions = fetch.parse_gg_accessions('/home/sjanssen/GreenGenes/gg_13_5_accessions.txt', abort_after_lines=None)\n",
    "\n",
    "gg_otumap_97_orig = map_ids.parse_gg_otu_map('/home/sjanssen/GreenGenes/gg_13_5_otus/otus/97_otu_map.txt', abort_after_lines=None)\n",
    "\n",
    "\n",
    "# Metaphlan\n",
    "o2 = mp_ids2taxids = {}\n",
    "mp_ids2taxids = fetch.read_accesion_taxids('/home/sjanssen/GreenGenes/final_taxid_metaphlan_gene.txt', mp_ids2taxids)\n",
    "mp_ids2taxids = fetch.read_accesion_taxids('/home/sjanssen/GreenGenes/final_taxid_metaphlan_gi.txt', mp_ids2taxids)\n",
    "mp_ids2taxids = fetch.read_accesion_taxids('/home/sjanssen/GreenGenes/final_taxid_metaphlan_nc.txt', mp_ids2taxids)\n",
    "mp_ids2taxids = update_taxids(merged, mp_ids2taxids)\n",
    "\n",
    "mp_markers = map_ids.parse_metaphlan_markers_info('/home/sjanssen///GreenGenes/Metaphlan/markers_info.txt', abort_after_lines=None)\n",
    "\n",
    "\n",
    "\n"
   ]
  },
  {
   "cell_type": "code",
   "execution_count": 19,
   "metadata": {
    "collapsed": false
   },
   "outputs": [
    {
     "name": "stderr",
     "output_type": "stream",
     "text": [
      "1354495 not in taxonomy\n",
      "-1 not in taxonomy\n"
     ]
    }
   ],
   "source": [
    "gg97 = map_gg_otumap_ids2taxids(gg_otumap_97_orig, gg_ids2taxids, gg_ids_accessions)\n",
    "mp_clades = mp_mp_clades2lca(mp_markers, mp_ids2taxids, nodes)"
   ]
  },
  {
   "cell_type": "code",
   "execution_count": 5,
   "metadata": {
    "collapsed": false
   },
   "outputs": [],
   "source": [
    "f = open('/home/sjanssen/GreenGenes/res.txt', 'w')\n",
    "\n",
    "c = 0\n",
    "for clade in mp_clades:\n",
    "    c += 1\n",
    "    lineage = mp_clades[clade]\n",
    "    \n",
    "    l = []\n",
    "    for otu_id in gg97:\n",
    "        for taxid in gg97[otu_id]:\n",
    "            if taxid in lineage:\n",
    "                l.append(otu_id)\n",
    "                break\n",
    "    f.write(\"%i\\t%s\\t%s\\t%s\\n\" % (len(l), l, clade, lineage))\n",
    "    \n",
    "    if c > 10000:\n",
    "        break\n",
    "\n",
    "f.close()"
   ]
  },
  {
   "cell_type": "code",
   "execution_count": 6,
   "metadata": {
    "collapsed": true
   },
   "outputs": [],
   "source": []
  },
  {
   "cell_type": "code",
   "execution_count": 47,
   "metadata": {
    "collapsed": true
   },
   "outputs": [],
   "source": [
    "import pandas as pd\n",
    "tax = pd.read_csv('/home/sjanssen/GreenGenes/gg_13_5_otus/taxonomy/97_otu_taxonomy.txt', sep=\"\\t\", header=None, names=['otuid','lineage'], index_col=0)"
   ]
  },
  {
   "cell_type": "code",
   "execution_count": 50,
   "metadata": {
    "collapsed": false
   },
   "outputs": [
    {
     "data": {
      "text/plain": [
       "['k__Bacteria; p__Actinobacteria; c__Actinobacteria; o__Actinomycetales; f__Brevibacteriaceae; g__Brevibacterium; s__casei',\n",
       " 'k__Bacteria; p__Actinobacteria; c__Actinobacteria; o__Actinomycetales; f__Brevibacteriaceae; g__Brevibacterium; s__casei',\n",
       " 'k__Bacteria; p__Actinobacteria; c__Actinobacteria; o__Actinomycetales; f__Brevibacteriaceae; g__Brevibacterium; s__casei',\n",
       " 'k__Bacteria; p__Actinobacteria; c__Actinobacteria; o__Actinomycetales; f__Brevibacteriaceae; g__Brevibacterium; s__',\n",
       " 'k__Bacteria; p__Actinobacteria; c__Actinobacteria; o__Actinomycetales; f__Brevibacteriaceae; g__Brevibacterium; s__aureum',\n",
       " 'k__Bacteria; p__Actinobacteria; c__Actinobacteria; o__Actinomycetales; f__Brevibacteriaceae; g__Brevibacterium; s__aureum',\n",
       " 'k__Bacteria; p__Actinobacteria; c__Actinobacteria; o__Actinomycetales; f__Brevibacteriaceae; g__Brevibacterium; s__',\n",
       " 'k__Bacteria; p__Actinobacteria; c__Actinobacteria; o__Actinomycetales; f__Brevibacteriaceae; g__Brevibacterium; s__']"
      ]
     },
     "execution_count": 50,
     "metadata": {},
     "output_type": "execute_result"
    }
   ],
   "source": [
    "list(tax.loc[[580377, 86772, 1028133, 89039, 12520, 776873, 1134896, 566396],'lineage'])"
   ]
  },
  {
   "cell_type": "code",
   "execution_count": 45,
   "metadata": {
    "collapsed": false
   },
   "outputs": [
    {
     "name": "stdout",
     "output_type": "stream",
     "text": [
      "f__Brevibacteriaceae\t0.098970\t\n",
      "\t [580377, 86772, 1028133, 89039, 12520, 776873, 1134896, 566396]\n",
      "s__Corynebacterium_pseudogenitalium\t9.658200\t\n",
      "\t [1016547]\n",
      "s__Corynebacterium_tuberculostearicum\t19.351940\t\n",
      "\t [13493, 1040713]\n",
      "f__Propionibacteriaceae\t0.229420\t\n",
      "\t []\n",
      "s__Propionibacterium_acnes\t0.583130\t\n",
      "\t [586355, 567406, 4382956, 4121939, 4447394]\n",
      "s__Propionibacterium_granulosum\t0.384200\t\n",
      "\t [1074945, 386088]\n",
      "s__Bacillus_licheniformis\t0.025270\t\n",
      "\t [4317009, 2579228, 4466538, 264981, 4477551, 807830, 36125, 36519, 38338, 564208, 574051, 576641, 1113935, 346842, 4473249, 585279, 110248, 4310119, 4317009, 132112, 4328259, 332283, 689888, 174351, 180719, 187838, 191576, 210559, 3365024, 222397, 236385, 247284, 511562, 4443986, 4447476, 1040601, 4449418, 261270]\n",
      "s__Bacillus_megaterium\t1.248610\t\n",
      "\t [1140833]\n",
      "s__Bacillus_subtilis\t0.565010\t\n",
      "\t [270613, 275153, 276934, 542842, 24734, 286880, 820837, 821594, 301350, 40827, 576466, 96288, 927604, 1113935, 1117992, 4266982, 339020, 14757, 1145081, 890547, 646463, 4317730, 1140833, 920852, 4330517, 661016, 139641, 140674, 4336079, 4349863, 4365770, 4365771, 4365773, 4365774, 697711, 2012617, 4372550, 179393, 4386115, 192167, 4386514, 722085, 199319, 1127349, 210559, 735912, 217358, 4412801, 3365024, 224198, 224643, 4425790, 1710148, 250794, 253331, 255657, 4456062, 210559, 4313520, 4317009, 192167, 210559, 192167, 210559]\n",
      "s__Staphylococcus_caprae_capitis\t0.138740\t\n",
      "\t [1072867, 3252211]\n",
      "s__Staphylococcus_epidermidis\t54.605810\t\n",
      "\t [284293, 316473, 330679, 3252211, 4312969, 996487, 495788, 1814180, 996487]\n",
      "s__Staphylococcus_haemolyticus\t0.446870\t\n",
      "\t [386899]\n",
      "s__Staphylococcus_hominis\t10.611970\t\n",
      "\t [2896107, 386899]\n",
      "s__Staphylococcus_lugdunensis\t1.936550\t\n",
      "\t [386899]\n",
      "g__Burkholderia\t0.115300\t\n",
      "\t [668303, 4322414, 802064, 834463, 200131, 4430679, 111824, 541275]\n"
     ]
    }
   ],
   "source": [
    "filename = '/home/sjanssen/10370_Skin-Amina/MetaTranscriptomics/stephan/armpit_v6_t3.bam.f13_r1.fq.bacprofile'\n",
    "tree = read_mp_output(filename)\n",
    "\n",
    "# tree.keys()\n",
    "for t in sorted(tree):\n",
    "    marker = None\n",
    "    for c in reversed(t.split(\"|\")):\n",
    "        if '_unclassified' in c:\n",
    "            c = c[:-len('_unclassified')]\n",
    "        if c in mp_clades:\n",
    "            marker = c\n",
    "            break\n",
    "    print(\"%s\\t%f\\t%s\" % (marker, tree[t], \"\"))\n",
    "\n",
    "    # look for suffixes:\n",
    "    found_otus = []\n",
    "    for taxid in mp_clades[marker]['suffixes']:\n",
    "        if match_taxid_to_otuid(taxid, gg97) != []:\n",
    "            found_otus.extend(match_taxid_to_otuid(taxid, gg97))\n",
    "    if found_otus == []:\n",
    "        for taxid in mp_clades[marker]['lca']:\n",
    "            if match_taxid_to_otuid(taxid, gg97) != []:\n",
    "                found_otus.extend(match_taxid_to_otuid(taxid, gg97))\n",
    "    print(\"\\t\", found_otus)\n",
    "#     break\n",
    "    \n",
    "#     for otu_id in gg97:\n",
    "#         for taxid in gg97[otu_id]:\n",
    "#             if taxid in reversed(mp_clades[marker]):\n",
    "#                 print(\"\\t%s\\t%s\" % (taxid, mp_clades[marker]))\n",
    "#                 break\n",
    "                \n",
    "#     print()\n",
    "#     break\n",
    "\n"
   ]
  },
  {
   "cell_type": "code",
   "execution_count": 51,
   "metadata": {
    "collapsed": false
   },
   "outputs": [
    {
     "data": {
      "text/plain": [
       "{77133, 189668}"
      ]
     },
     "execution_count": 51,
     "metadata": {},
     "output_type": "execute_result"
    }
   ],
   "source": [
    "gg97[524292]"
   ]
  },
  {
   "cell_type": "code",
   "execution_count": 20,
   "metadata": {
    "collapsed": false
   },
   "outputs": [
    {
     "data": {
      "text/plain": [
       "([1, 131567, 2, 1783272, 201174, 1760, 85007, 1653, 1716, 38303],\n",
       " {'lca': [1, 131567, 2, 1783272, 201174, 1760, 85007, 1653, 1716],\n",
       "  'suffixes': {38303,\n",
       "   525264,\n",
       "   1203557,\n",
       "   1203558,\n",
       "   1203559,\n",
       "   1203560,\n",
       "   1203563,\n",
       "   1203564,\n",
       "   1203566,\n",
       "   1203567}})"
      ]
     },
     "execution_count": 20,
     "metadata": {},
     "output_type": "execute_result"
    }
   ],
   "source": [
    "get_lineage(38303, nodes), mp_clades['s__Corynebacterium_pseudogenitalium']"
   ]
  },
  {
   "cell_type": "code",
   "execution_count": 10,
   "metadata": {
    "collapsed": false
   },
   "outputs": [
    {
     "data": {
      "text/plain": [
       "[5, 6, 7]"
      ]
     },
     "execution_count": 10,
     "metadata": {},
     "output_type": "execute_result"
    }
   ],
   "source": [
    "a = [1,2,3,4]\n",
    "b = [1,2,3,4,5,6,7]\n",
    "\n",
    "b[len(a):]"
   ]
  },
  {
   "cell_type": "code",
   "execution_count": 26,
   "metadata": {
    "collapsed": false
   },
   "outputs": [
    {
     "data": {
      "text/plain": [
       "[]"
      ]
     },
     "execution_count": 26,
     "metadata": {},
     "output_type": "execute_result"
    }
   ],
   "source": [
    "def match_taxid_to_otuid(query, gg_map):\n",
    "    matching_otu_ids = []\n",
    "    \n",
    "    for otuid in gg_map:\n",
    "        if query in gg_map[otuid]:\n",
    "            matching_otu_ids.append(otuid)\n",
    "    \n",
    "    return matching_otu_ids\n",
    "\n",
    "match_taxid_to_otuid(38300003, gg97)"
   ]
  },
  {
   "cell_type": "code",
   "execution_count": null,
   "metadata": {
    "collapsed": true
   },
   "outputs": [],
   "source": []
  }
 ],
 "metadata": {
  "anaconda-cloud": {},
  "kernelspec": {
   "display_name": "Python [default]",
   "language": "python",
   "name": "python3"
  },
  "language_info": {
   "codemirror_mode": {
    "name": "ipython",
    "version": 3
   },
   "file_extension": ".py",
   "mimetype": "text/x-python",
   "name": "python",
   "nbconvert_exporter": "python",
   "pygments_lexer": "ipython3",
   "version": "3.5.2"
  }
 },
 "nbformat": 4,
 "nbformat_minor": 1
}
