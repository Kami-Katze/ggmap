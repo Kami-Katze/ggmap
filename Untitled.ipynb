{
 "cells": [
  {
   "cell_type": "code",
   "execution_count": 2,
   "metadata": {
    "collapsed": false
   },
   "outputs": [],
   "source": [
    "%matplotlib inline\n",
    "\n",
    "import pandas as pd\n",
    "import fetch\n",
    "import map_ids\n",
    "from itertools import takewhile\n",
    "import sys\n",
    "\n",
    "import numpy as np\n",
    "import matplotlib.pyplot as plt\n",
    "import seaborn as sns\n",
    "import matplotlib.patches as mpatches"
   ]
  },
  {
   "cell_type": "code",
   "execution_count": 14,
   "metadata": {
    "collapsed": false
   },
   "outputs": [],
   "source": [
    "def update_taxids(merged, accessions):\n",
    "    for accession in accessions:\n",
    "        if int(accessions[accession]) in merged:\n",
    "            accessions[accession] = str(merged[int(accessions[accession])])\n",
    "    return accessions\n",
    "\n",
    "\n",
    "def map_gg_otumap_ids2taxids(gg_otumap_orig, gg_ids2taxids, gg_ids_accessions):\n",
    "    gg_otumap_taxid = {}\n",
    "    for idx in gg_otumap_orig:\n",
    "        gg_otumap_taxid[idx] = set([map_gg_id2taxid(idx, gg_ids2taxids, gg_ids_accessions)] + \n",
    "                                   [map_gg_id2taxid(jdx, gg_ids2taxids, gg_ids_accessions) for jdx in gg_otumap_orig[idx]])\n",
    "    return gg_otumap_taxid\n",
    "\n",
    "\n",
    "def map_gg_id2taxid(gg_id, gg_ids2taxids, gg_ids_accessions):\n",
    "    # step 1: map GreenGenes ID to a Genbank or IMG accession\n",
    "    accession = None\n",
    "    for db_type in gg_ids_accessions:\n",
    "        if str(gg_id) in gg_ids_accessions[db_type]:\n",
    "            accession = gg_ids_accessions[db_type][str(gg_id)]\n",
    "            break\n",
    "    \n",
    "    # step 2: map the accession to a NCBI taxonomy ID\n",
    "    taxid = int(gg_ids2taxids[accession])\n",
    "    \n",
    "    return taxid\n",
    "\n",
    "\n",
    "\n",
    "def mp_mp_clades2lca(mp_markers, mp_ids2taxids, nodes):\n",
    "    clades = {}\n",
    "    \n",
    "    for clade in mp_markers:\n",
    "        # step 1: maps accessions to NCBI taxonomy IDs\n",
    "        taxids = set()\n",
    "        for db_type in mp_markers[clade]:\n",
    "            for mp_id in mp_markers[clade][db_type]:\n",
    "                taxids.add(map_mp_id2taxid(mp_id, mp_ids2taxids))\n",
    "\n",
    "        # step 2: obtain full lineage for each taxonomy ID\n",
    "        lineages = []\n",
    "        for taxid in taxids:\n",
    "            lineage = get_lineage(int(taxid), nodes)\n",
    "            if lineage != []:\n",
    "                lineages.append(lineage)\n",
    "        \n",
    "        # step 3: find taxonomy ID of the lowest common ancestor\n",
    "        lca = get_lca(lineages)\n",
    "        suffixes = set()\n",
    "        for l in lineages:\n",
    "            for taxid in l[len(lca):]:\n",
    "                suffixes.add(taxid)\n",
    "\n",
    "        clades[clade] = {'lca': lca,\n",
    "                         'suffixes': suffixes}\n",
    "    return clades\n",
    "\n",
    "\n",
    "def map_mp_id2taxid(mp_id, mp_ids2taxids):\n",
    "    return mp_ids2taxids[mp_id]\n",
    "\n",
    "def read_mp_output(filename):\n",
    "    tree = {}\n",
    "    try:\n",
    "        file = open(filename, 'r')\n",
    "        file.readline()  # header\n",
    "        for line in file:\n",
    "            linStr, abundance = line.rstrip().split('\\t')\n",
    "            for t in tree:\n",
    "                if t in linStr:\n",
    "                    del tree[t]\n",
    "                    break\n",
    "            tree[linStr] = float(abundance)\n",
    "\n",
    "        file.close()\n",
    "        return tree\n",
    "\n",
    "    except IOError:\n",
    "        print('Cannot read file')\n",
    "\n",
    "\n",
    "def parse_ncbi_merged(filename):\n",
    "    merged = {}\n",
    "    try:\n",
    "        file = open(filename, 'r')\n",
    "        for line in file:\n",
    "            fields = line.rstrip().split('\\t|')\n",
    "            old_id, new_id = int(fields[0].rstrip()), int(fields[1])\n",
    "            merged[old_id] = new_id\n",
    "            \n",
    "        file.close()\n",
    "        return merged\n",
    "\n",
    "    except IOError:\n",
    "        print('Cannot read file')\n",
    "\n",
    "    \n",
    "def parse_ncbi_nodes(filename, abort_after_lines=20):\n",
    "    nodes = {}\n",
    "    try:\n",
    "        file = open(filename, 'r')\n",
    "        readlines = 0\n",
    "        for line in file:\n",
    "            readlines += 1\n",
    "            fields = line.split('\\t|\\t')\n",
    "            nodes[int(fields[0])] = int(fields[1])\n",
    "\n",
    "            if (abort_after_lines is not None) and \\\n",
    "               (readlines >= abort_after_lines):\n",
    "                break\n",
    "\n",
    "        file.close()\n",
    "        return nodes\n",
    "\n",
    "    except IOError:\n",
    "        print('Cannot read file')\n",
    "\n",
    "def get_lineage(taxid, taxonomy):\n",
    "    lineage = [taxid]\n",
    "    if taxid not in taxonomy:\n",
    "        print('%s not in taxonomy' % taxid, file=sys.stderr)\n",
    "        return []\n",
    "    else:\n",
    "        while taxonomy[lineage[-1]] != lineage[-1]:\n",
    "            lineage.append(taxonomy[lineage[-1]])\n",
    "        return list(reversed(lineage))\n",
    "\n",
    "def get_lca(lineages):\n",
    "    def allsame(x):\n",
    "        return len(set(x)) == 1\n",
    "\n",
    "    return [i[0] for i in takewhile(allsame, zip(*lineages))]\n",
    "\n",
    "\n",
    "def match_taxid_to_otuid(query, gg_map):\n",
    "    matching_otu_ids = []\n",
    "    \n",
    "    for otuid in gg_map:\n",
    "        if query in gg_map[otuid]:\n",
    "            matching_otu_ids.append(otuid)\n",
    "    \n",
    "    return matching_otu_ids\n",
    "\n",
    "def mp2gg_profile(filename, mp_clades, gg97, verbose=False):\n",
    "    tree = read_mp_output(filename)\n",
    "\n",
    "    profile = {}\n",
    "    for t in sorted(tree):\n",
    "        marker = None\n",
    "        for c in reversed(t.split(\"|\")):\n",
    "            if '_unclassified' in c:\n",
    "                c = c[:-len('_unclassified')]\n",
    "            if c in mp_clades:\n",
    "                marker = c\n",
    "                break\n",
    "        \n",
    "        # look for suffixes:\n",
    "        found_otus = []\n",
    "        for taxid in mp_clades[marker]['suffixes']:\n",
    "            if match_taxid_to_otuid(taxid, gg97) != []:\n",
    "                found_otus.extend(match_taxid_to_otuid(taxid, gg97))\n",
    "        if found_otus == []:\n",
    "            for taxid in mp_clades[marker]['lca']:\n",
    "                if match_taxid_to_otuid(taxid, gg97) != []:\n",
    "                    found_otus.extend(match_taxid_to_otuid(taxid, gg97))\n",
    "\n",
    "        # nothing found\n",
    "        if found_otus == []:\n",
    "            found_otus = [-1]\n",
    "\n",
    "        if verbose or (found_otus == [-1]):\n",
    "            print(\"%s\\t%f\\t%s\" % (marker, tree[t], found_otus))\n",
    "        \n",
    "        # --> distribute abundance across all OTUs\n",
    "        for otuid in found_otus:\n",
    "            if otuid not in profile:\n",
    "                profile[otuid] = 0\n",
    "            profile[otuid] += tree[t] / len(found_otus)\n",
    "    \n",
    "    return profile\n"
   ]
  },
  {
   "cell_type": "code",
   "execution_count": 4,
   "metadata": {
    "collapsed": false
   },
   "outputs": [],
   "source": [
    "# NCBI Taxonomy\n",
    "nodes = parse_ncbi_nodes('/home/sjanssen/GreenGenes/NCBItaxonomy/nodes.dmp', abort_after_lines=None)\n",
    "merged = parse_ncbi_merged('/home/sjanssen/GreenGenes/NCBItaxonomy/merged.dmp')\n",
    "\n",
    "\n",
    "# Green Genes\n",
    "gg_ids2taxids = {}\n",
    "gg_ids2taxids = fetch.read_accesion_taxids('/home/sjanssen/GreenGenes/final_taxid_gg_Genbank.txt', gg_ids2taxids)\n",
    "gg_ids2taxids = fetch.read_accesion_taxids('/home/sjanssen/GreenGenes/final_taxid_gg_IMG.txt', gg_ids2taxids)\n",
    "gg_ids2taxids = update_taxids(merged, gg_ids2taxids)\n",
    "\n",
    "gg_ids_accessions = fetch.parse_gg_accessions('/home/sjanssen/GreenGenes/gg_13_5_accessions.txt', abort_after_lines=None)\n",
    "\n",
    "gg_otumap_97_orig = map_ids.parse_gg_otu_map('/home/sjanssen/GreenGenes/gg_13_5_otus/otus/97_otu_map.txt', abort_after_lines=None)\n",
    "\n",
    "\n",
    "# Metaphlan\n",
    "o2 = mp_ids2taxids = {}\n",
    "mp_ids2taxids = fetch.read_accesion_taxids('/home/sjanssen/GreenGenes/final_taxid_metaphlan_gene.txt', mp_ids2taxids)\n",
    "mp_ids2taxids = fetch.read_accesion_taxids('/home/sjanssen/GreenGenes/final_taxid_metaphlan_gi.txt', mp_ids2taxids)\n",
    "mp_ids2taxids = fetch.read_accesion_taxids('/home/sjanssen/GreenGenes/final_taxid_metaphlan_nc.txt', mp_ids2taxids)\n",
    "mp_ids2taxids = update_taxids(merged, mp_ids2taxids)\n",
    "\n",
    "mp_markers = map_ids.parse_metaphlan_markers_info('/home/sjanssen///GreenGenes/Metaphlan/markers_info.txt', abort_after_lines=None)\n",
    "\n",
    "\n",
    "\n"
   ]
  },
  {
   "cell_type": "code",
   "execution_count": 5,
   "metadata": {
    "collapsed": false
   },
   "outputs": [
    {
     "name": "stderr",
     "output_type": "stream",
     "text": [
      "-1 not in taxonomy\n",
      "1354495 not in taxonomy\n"
     ]
    }
   ],
   "source": [
    "gg97 = map_gg_otumap_ids2taxids(gg_otumap_97_orig, gg_ids2taxids, gg_ids_accessions)\n",
    "mp_clades = mp_mp_clades2lca(mp_markers, mp_ids2taxids, nodes)"
   ]
  },
  {
   "cell_type": "code",
   "execution_count": 5,
   "metadata": {
    "collapsed": false
   },
   "outputs": [],
   "source": [
    "f = open('/home/sjanssen/GreenGenes/res.txt', 'w')\n",
    "\n",
    "c = 0\n",
    "for clade in mp_clades:\n",
    "    c += 1\n",
    "    lineage = mp_clades[clade]\n",
    "    \n",
    "    l = []\n",
    "    for otu_id in gg97:\n",
    "        for taxid in gg97[otu_id]:\n",
    "            if taxid in lineage:\n",
    "                l.append(otu_id)\n",
    "                break\n",
    "    f.write(\"%i\\t%s\\t%s\\t%s\\n\" % (len(l), l, clade, lineage))\n",
    "    \n",
    "    if c > 10000:\n",
    "        break\n",
    "\n",
    "f.close()"
   ]
  },
  {
   "cell_type": "code",
   "execution_count": 6,
   "metadata": {
    "collapsed": true
   },
   "outputs": [],
   "source": []
  },
  {
   "cell_type": "code",
   "execution_count": 26,
   "metadata": {
    "collapsed": true
   },
   "outputs": [],
   "source": [
    "import pandas as pd\n",
    "tax = pd.read_csv('/home/sjanssen/GreenGenes/gg_13_5_otus/taxonomy/97_otu_taxonomy.txt', sep=\"\\t\", header=None, names=['otuid','lineage'], index_col=0)"
   ]
  },
  {
   "cell_type": "code",
   "execution_count": 50,
   "metadata": {
    "collapsed": false
   },
   "outputs": [
    {
     "data": {
      "text/plain": [
       "['k__Bacteria; p__Actinobacteria; c__Actinobacteria; o__Actinomycetales; f__Brevibacteriaceae; g__Brevibacterium; s__casei',\n",
       " 'k__Bacteria; p__Actinobacteria; c__Actinobacteria; o__Actinomycetales; f__Brevibacteriaceae; g__Brevibacterium; s__casei',\n",
       " 'k__Bacteria; p__Actinobacteria; c__Actinobacteria; o__Actinomycetales; f__Brevibacteriaceae; g__Brevibacterium; s__casei',\n",
       " 'k__Bacteria; p__Actinobacteria; c__Actinobacteria; o__Actinomycetales; f__Brevibacteriaceae; g__Brevibacterium; s__',\n",
       " 'k__Bacteria; p__Actinobacteria; c__Actinobacteria; o__Actinomycetales; f__Brevibacteriaceae; g__Brevibacterium; s__aureum',\n",
       " 'k__Bacteria; p__Actinobacteria; c__Actinobacteria; o__Actinomycetales; f__Brevibacteriaceae; g__Brevibacterium; s__aureum',\n",
       " 'k__Bacteria; p__Actinobacteria; c__Actinobacteria; o__Actinomycetales; f__Brevibacteriaceae; g__Brevibacterium; s__',\n",
       " 'k__Bacteria; p__Actinobacteria; c__Actinobacteria; o__Actinomycetales; f__Brevibacteriaceae; g__Brevibacterium; s__']"
      ]
     },
     "execution_count": 50,
     "metadata": {},
     "output_type": "execute_result"
    }
   ],
   "source": [
    "list(tax.loc[[580377, 86772, 1028133, 89039, 12520, 776873, 1134896, 566396],'lineage'])"
   ]
  },
  {
   "cell_type": "code",
   "execution_count": 13,
   "metadata": {
    "collapsed": false
   },
   "outputs": [],
   "source": [
    "\n",
    "filename = '/home/sjanssen/10370_Skin-Amina/MetaTranscriptomics/stephan/armpit_v6_t3.bam.f13_r1.fq.bacprofile'\n",
    "profile = mp2gg_profile(filename, mp_clades, gg97)"
   ]
  },
  {
   "cell_type": "code",
   "execution_count": 18,
   "metadata": {
    "collapsed": false
   },
   "outputs": [
    {
     "name": "stdout",
     "output_type": "stream",
     "text": [
      "f__Propionibacteriaceae\t0.229420\t[-1]\n",
      "f__Propionibacteriaceae\t32.360480\t[-1]\n",
      "s__Staphylococcus_pettenkoferi\t0.005000\t[-1]\n",
      "f__Propionibacteriaceae\t1.311830\t[-1]\n",
      "s__Grapevine_yellow_speckle_viroid_2\t1.503620\t[-1]\n",
      "f__Propionibacteriaceae\t2.027440\t[-1]\n",
      "g__Avsunviroid\t0.191410\t[-1]\n",
      "f__Propionibacteriaceae\t68.658010\t[-1]\n",
      "f__Propionibacteriaceae\t26.512880\t[-1]\n"
     ]
    }
   ],
   "source": [
    "path = '/home/sjanssen/10370_Skin-Amina/MetaTranscriptomics/stephan/'\n",
    "v = False\n",
    "\n",
    "profile_v6_3 = mp2gg_profile(path + 'armpit_v6_t3.bam.f13_r1.fq.bacprofile', mp_clades, gg97, verbose=v)\n",
    "profile_v6_6 = mp2gg_profile(path + 'armpit_v6_t6.bam.f13_r1.fq.bacprofile', mp_clades, gg97, verbose=v)\n",
    "profile_v6_9 = mp2gg_profile(path + 'armpit_v6_t9.bam.f13_r1.fq.bacprofile', mp_clades, gg97, verbose=v)\n",
    "profile_v9_3 = mp2gg_profile(path + 'armpit_v9_t3.bam.f13_r1.fq.bacprofile', mp_clades, gg97, verbose=v)\n",
    "profile_v9_6 = mp2gg_profile(path + 'armpit_v9_t6.bam.f13_r1.fq.bacprofile', mp_clades, gg97, verbose=v)\n",
    "profile_v9_9 = mp2gg_profile(path + 'armpit_v9_t9.bam.f13_r1.fq.bacprofile', mp_clades, gg97, verbose=v)\n"
   ]
  },
  {
   "cell_type": "code",
   "execution_count": 16,
   "metadata": {
    "collapsed": false
   },
   "outputs": [
    {
     "ename": "NameError",
     "evalue": "name 'profile_v6_3' is not defined",
     "output_type": "error",
     "traceback": [
      "\u001b[0;31m---------------------------------------------------------------------------\u001b[0m",
      "\u001b[0;31mNameError\u001b[0m                                 Traceback (most recent call last)",
      "\u001b[0;32m<ipython-input-16-d58ed4036d44>\u001b[0m in \u001b[0;36m<module>\u001b[0;34m()\u001b[0m\n\u001b[1;32m      1\u001b[0m \u001b[0ml\u001b[0m \u001b[0;34m=\u001b[0m \u001b[0;34m[\u001b[0m\u001b[0;34m]\u001b[0m\u001b[0;34m\u001b[0m\u001b[0m\n\u001b[0;32m----> 2\u001b[0;31m \u001b[0ml\u001b[0m\u001b[0;34m.\u001b[0m\u001b[0mappend\u001b[0m\u001b[0;34m(\u001b[0m\u001b[0mpd\u001b[0m\u001b[0;34m.\u001b[0m\u001b[0mSeries\u001b[0m\u001b[0;34m(\u001b[0m\u001b[0mprofile_v6_3\u001b[0m\u001b[0;34m,\u001b[0m \u001b[0mindex\u001b[0m\u001b[0;34m=\u001b[0m\u001b[0mprofile\u001b[0m\u001b[0;34m.\u001b[0m\u001b[0mkeys\u001b[0m\u001b[0;34m(\u001b[0m\u001b[0;34m)\u001b[0m\u001b[0;34m,\u001b[0m \u001b[0mname\u001b[0m\u001b[0;34m=\u001b[0m\u001b[0;34m'v6_3'\u001b[0m\u001b[0;34m)\u001b[0m\u001b[0;34m)\u001b[0m\u001b[0;34m\u001b[0m\u001b[0m\n\u001b[0m\u001b[1;32m      3\u001b[0m \u001b[0ml\u001b[0m\u001b[0;34m.\u001b[0m\u001b[0mappend\u001b[0m\u001b[0;34m(\u001b[0m\u001b[0mpd\u001b[0m\u001b[0;34m.\u001b[0m\u001b[0mSeries\u001b[0m\u001b[0;34m(\u001b[0m\u001b[0mprofile_v6_6\u001b[0m\u001b[0;34m,\u001b[0m \u001b[0mindex\u001b[0m\u001b[0;34m=\u001b[0m\u001b[0mprofile\u001b[0m\u001b[0;34m.\u001b[0m\u001b[0mkeys\u001b[0m\u001b[0;34m(\u001b[0m\u001b[0;34m)\u001b[0m\u001b[0;34m,\u001b[0m \u001b[0mname\u001b[0m\u001b[0;34m=\u001b[0m\u001b[0;34m'v6_6'\u001b[0m\u001b[0;34m)\u001b[0m\u001b[0;34m)\u001b[0m\u001b[0;34m\u001b[0m\u001b[0m\n\u001b[1;32m      4\u001b[0m \u001b[0ml\u001b[0m\u001b[0;34m.\u001b[0m\u001b[0mappend\u001b[0m\u001b[0;34m(\u001b[0m\u001b[0mpd\u001b[0m\u001b[0;34m.\u001b[0m\u001b[0mSeries\u001b[0m\u001b[0;34m(\u001b[0m\u001b[0mprofile_v6_9\u001b[0m\u001b[0;34m,\u001b[0m \u001b[0mindex\u001b[0m\u001b[0;34m=\u001b[0m\u001b[0mprofile\u001b[0m\u001b[0;34m.\u001b[0m\u001b[0mkeys\u001b[0m\u001b[0;34m(\u001b[0m\u001b[0;34m)\u001b[0m\u001b[0;34m,\u001b[0m \u001b[0mname\u001b[0m\u001b[0;34m=\u001b[0m\u001b[0;34m'v6_9'\u001b[0m\u001b[0;34m)\u001b[0m\u001b[0;34m)\u001b[0m\u001b[0;34m\u001b[0m\u001b[0m\n\u001b[1;32m      5\u001b[0m \u001b[0ml\u001b[0m\u001b[0;34m.\u001b[0m\u001b[0mappend\u001b[0m\u001b[0;34m(\u001b[0m\u001b[0mpd\u001b[0m\u001b[0;34m.\u001b[0m\u001b[0mSeries\u001b[0m\u001b[0;34m(\u001b[0m\u001b[0mprofile_v9_3\u001b[0m\u001b[0;34m,\u001b[0m \u001b[0mindex\u001b[0m\u001b[0;34m=\u001b[0m\u001b[0mprofile\u001b[0m\u001b[0;34m.\u001b[0m\u001b[0mkeys\u001b[0m\u001b[0;34m(\u001b[0m\u001b[0;34m)\u001b[0m\u001b[0;34m,\u001b[0m \u001b[0mname\u001b[0m\u001b[0;34m=\u001b[0m\u001b[0;34m'v9_3'\u001b[0m\u001b[0;34m)\u001b[0m\u001b[0;34m)\u001b[0m\u001b[0;34m\u001b[0m\u001b[0m\n",
      "\u001b[0;31mNameError\u001b[0m: name 'profile_v6_3' is not defined"
     ]
    }
   ],
   "source": [
    "l = []\n",
    "l.append(pd.Series(profile_v6_3, index=profile.keys(), name='v6_3'))\n",
    "l.append(pd.Series(profile_v6_6, index=profile.keys(), name='v6_6'))\n",
    "l.append(pd.Series(profile_v6_9, index=profile.keys(), name='v6_9'))\n",
    "l.append(pd.Series(profile_v9_3, index=profile.keys(), name='v9_3'))\n",
    "l.append(pd.Series(profile_v9_6, index=profile.keys(), name='v9_6'))\n",
    "l.append(pd.Series(profile_v9_9, index=profile.keys(), name='v9_9'))\n",
    "counts = pd.concat(l, axis=1).fillna(0.0)\n",
    "counts /= counts.sum()"
   ]
  },
  {
   "cell_type": "code",
   "execution_count": 56,
   "metadata": {
    "collapsed": false
   },
   "outputs": [],
   "source": [
    "rank = 1 # 'Phylum'\n",
    "\n",
    "taxes = []\n",
    "for idx, row in counts.iterrows():\n",
    "    if idx == -1:\n",
    "        taxes.append('unmappable')\n",
    "    else:\n",
    "        taxes.append(tax.loc[idx,'lineage'].split('; ')[rank])\n",
    "    \n",
    "counts['tax'] = taxes   \n",
    "y = counts.groupby('tax').sum()"
   ]
  },
  {
   "cell_type": "code",
   "execution_count": 54,
   "metadata": {
    "collapsed": false
   },
   "outputs": [
    {
     "data": {
      "text/html": [
       "<div>\n",
       "<table border=\"1\" class=\"dataframe\">\n",
       "  <thead>\n",
       "    <tr style=\"text-align: right;\">\n",
       "      <th></th>\n",
       "      <th>v6_3</th>\n",
       "      <th>v6_6</th>\n",
       "      <th>v6_9</th>\n",
       "      <th>v9_3</th>\n",
       "      <th>v9_6</th>\n",
       "      <th>v9_9</th>\n",
       "    </tr>\n",
       "    <tr>\n",
       "      <th>tax</th>\n",
       "      <th></th>\n",
       "      <th></th>\n",
       "      <th></th>\n",
       "      <th></th>\n",
       "      <th></th>\n",
       "      <th></th>\n",
       "    </tr>\n",
       "  </thead>\n",
       "  <tbody>\n",
       "    <tr>\n",
       "      <th>p__Acidobacteria</th>\n",
       "      <td>0.000088</td>\n",
       "      <td>0.001077</td>\n",
       "      <td>0.000849</td>\n",
       "      <td>0.000098</td>\n",
       "      <td>0.000232</td>\n",
       "      <td>0.001330</td>\n",
       "    </tr>\n",
       "    <tr>\n",
       "      <th>p__Actinobacteria</th>\n",
       "      <td>0.300941</td>\n",
       "      <td>0.148490</td>\n",
       "      <td>0.091637</td>\n",
       "      <td>0.011943</td>\n",
       "      <td>0.070155</td>\n",
       "      <td>0.032328</td>\n",
       "    </tr>\n",
       "    <tr>\n",
       "      <th>p__Firmicutes</th>\n",
       "      <td>0.695082</td>\n",
       "      <td>0.490705</td>\n",
       "      <td>0.872002</td>\n",
       "      <td>0.965078</td>\n",
       "      <td>0.236433</td>\n",
       "      <td>0.685055</td>\n",
       "    </tr>\n",
       "    <tr>\n",
       "      <th>p__Proteobacteria</th>\n",
       "      <td>0.001594</td>\n",
       "      <td>0.014768</td>\n",
       "      <td>0.007305</td>\n",
       "      <td>0.000488</td>\n",
       "      <td>0.003690</td>\n",
       "      <td>0.006651</td>\n",
       "    </tr>\n",
       "    <tr>\n",
       "      <th>unmappable</th>\n",
       "      <td>0.002294</td>\n",
       "      <td>0.344959</td>\n",
       "      <td>0.028208</td>\n",
       "      <td>0.022393</td>\n",
       "      <td>0.689490</td>\n",
       "      <td>0.274636</td>\n",
       "    </tr>\n",
       "  </tbody>\n",
       "</table>\n",
       "</div>"
      ],
      "text/plain": [
       "                       v6_3      v6_6      v6_9      v9_3      v9_6      v9_9\n",
       "tax                                                                          \n",
       "p__Acidobacteria   0.000088  0.001077  0.000849  0.000098  0.000232  0.001330\n",
       "p__Actinobacteria  0.300941  0.148490  0.091637  0.011943  0.070155  0.032328\n",
       "p__Firmicutes      0.695082  0.490705  0.872002  0.965078  0.236433  0.685055\n",
       "p__Proteobacteria  0.001594  0.014768  0.007305  0.000488  0.003690  0.006651\n",
       "unmappable         0.002294  0.344959  0.028208  0.022393  0.689490  0.274636"
      ]
     },
     "execution_count": 54,
     "metadata": {},
     "output_type": "execute_result"
    }
   ],
   "source": [
    "crank"
   ]
  },
  {
   "cell_type": "code",
   "execution_count": 62,
   "metadata": {
    "collapsed": false
   },
   "outputs": [
    {
     "data": {
      "image/png": "[encoded data removed]",
      "text/plain": [
       "<matplotlib.figure.Figure at 0x7f0b7a799860>"
      ]
     },
     "metadata": {},
     "output_type": "display_data"
    }
   ],
   "source": [
    "colorHash= {}\n",
    "availColors = sns.color_palette('Paired', 100)\n",
    "\n",
    "ax = plt.subplot(1, 2, 2)\n",
    "width = 0.80\n",
    "ind = list(range(0, y.shape[1]))\n",
    "bottom = [0] * y.shape[1]\n",
    "for taxon, abundances in y.loc[y.index, ].iterrows():\n",
    "    if taxon not in colorHash:\n",
    "        colorHash[taxon] = availColors[len(colorHash) % len(availColors)]\n",
    "    p2 = plt.bar(ind, abundances.values, bottom=bottom, label=taxon, color=colorHash[taxon], width=width)\n",
    "    bottom += abundances.values\n",
    "\n",
    "p = plt.title('mean over samples')\n",
    "p = plt.xticks([p + width/2.0 for p in ind], list(y.columns), rotation='vertical')\n",
    "p = plt.ylabel('relative abundance\\n')\n",
    "\n",
    "l_patches = []\n",
    "for taxon in y.index:\n",
    "    l_patches.append(mpatches.Patch(color=colorHash[taxon], label=taxon))\n",
    "p = ax.legend(handles=l_patches, loc='upper left', bbox_to_anchor=(1.01, 1))\n",
    "    "
   ]
  },
  {
   "cell_type": "code",
   "execution_count": 19,
   "metadata": {
    "collapsed": false
   },
   "outputs": [
    {
     "name": "stdout",
     "output_type": "stream",
     "text": [
      "f__Brevibacteriaceae\t0.135160\t[580377, 86772, 1028133, 89039, 12520, 776873, 1134896, 566396]\n",
      "s__Corynebacterium_aurimucosum\t0.000710\t[986872]\n",
      "s__Corynebacterium_jeikeium\t0.001150\t[1080632]\n",
      "s__Corynebacterium_pseudogenitalium\t0.001280\t[1016547]\n",
      "s__Corynebacterium_tuberculostearicum\t0.036260\t[13493, 1040713]\n",
      "g__Micrococcus\t0.022700\t[711733]\n",
      "f__Propionibacteriaceae\t68.658010\t[-1]\n",
      "s__Propionibacterium_acnes\t6.766400\t[586355, 567406, 4382956, 4121939, 4447394]\n",
      "s__Propionibacterium_granulosum\t0.000620\t[1074945, 386088]\n",
      "s__Bacillus_licheniformis\t0.137390\t[4317009, 2579228, 4466538, 264981, 4477551, 807830, 36125, 36519, 38338, 564208, 574051, 576641, 1113935, 346842, 4473249, 585279, 110248, 4310119, 4317009, 132112, 4328259, 332283, 689888, 174351, 180719, 187838, 191576, 210559, 3365024, 222397, 236385, 247284, 511562, 4443986, 4447476, 1040601, 4449418, 261270]\n",
      "s__Bacillus_megaterium\t5.051460\t[1140833]\n",
      "s__Bacillus_subtilis\t1.478040\t[270613, 275153, 276934, 542842, 24734, 286880, 820837, 821594, 301350, 40827, 576466, 96288, 927604, 1113935, 1117992, 4266982, 339020, 14757, 1145081, 890547, 646463, 4317730, 1140833, 920852, 4330517, 661016, 139641, 140674, 4336079, 4349863, 4365770, 4365771, 4365773, 4365774, 697711, 2012617, 4372550, 179393, 4386115, 192167, 4386514, 722085, 199319, 1127349, 210559, 735912, 217358, 4412801, 3365024, 224198, 224643, 4425790, 1710148, 250794, 253331, 255657, 4456062, 210559, 4313520, 4317009, 192167, 210559, 192167, 210559]\n",
      "s__Staphylococcus_caprae_capitis\t0.139800\t[1072867, 3252211]\n",
      "s__Staphylococcus_epidermidis\t16.871790\t[284293, 316473, 330679, 3252211, 4312969, 996487, 495788, 1814180, 996487]\n",
      "s__Staphylococcus_lugdunensis\t0.049810\t[386899]\n",
      "s__Lactobacillus_iners\t0.005910\t[129798]\n",
      "g__Burkholderia\t0.251940\t[668303, 4322414, 802064, 834463, 200131, 4430679, 541275, 111824]\n",
      "g__Escherichia\t0.158890\t[2924870, 566976, 1649772, 345951, 2445338, 4295564, 114510, 3531225, 2749126, 656881, 164915, 442743, 2072645]\n",
      "g__Acinetobacter\t0.161330\t[532569, 247695, 526430, 530416, 585817, 4368597, 461764, 521318]\n",
      "g__Pseudomonas\t0.071340\t[262708, 264673, 269930, 4474160, 1071450, 816992, 557974, 589597, 65400, 74559, 100877, 611597, 91834, 357624, 363719, 640641, 284090, 133533, 398017, 398604, 400315, 138840, 3290367, 155221, 156652, 4353093, 3314521, 170405, 2534140, 2534141, 2534143, 961783, 4393208, 202610, 216433, 223368, 226426, 2589305, 3913171, 259419, 516292, 256834, 260790, 260809, 261144, 1071450]\n"
     ]
    }
   ],
   "source": [
    "path = '/home/sjanssen/10370_Skin-Amina/MetaTranscriptomics/stephan/'\n",
    "profile_v9_6 = mp2gg_profile(path + 'armpit_v9_t6.bam.f13_r1.fq.bacprofile', mp_clades, gg97, verbose=True)\n"
   ]
  },
  {
   "cell_type": "code",
   "execution_count": 24,
   "metadata": {
    "collapsed": false
   },
   "outputs": [
    {
     "data": {
      "text/plain": [
       "{'lca': [1, 131567, 2, 1783272, 201174, 1760, 85009, 31957, 1743],\n",
       " 'suffixes': {450748,\n",
       "  936047,\n",
       "  936048,\n",
       "  1005703,\n",
       "  1203572,\n",
       "  1203577,\n",
       "  1203631,\n",
       "  1203634}}"
      ]
     },
     "execution_count": 24,
     "metadata": {},
     "output_type": "execute_result"
    }
   ],
   "source": [
    "mp_clades['f__Propionibacteriaceae']"
   ]
  },
  {
   "cell_type": "code",
   "execution_count": 35,
   "metadata": {
    "collapsed": false
   },
   "outputs": [],
   "source": [
    "i = []\n",
    "for idx, row in tax.iterrows():\n",
    "    if 'f__Propionibacteriaceae' in row.lineage:\n",
    "        i.append(idx)\n",
    "\n",
    "x = tax.loc[i,:]"
   ]
  },
  {
   "cell_type": "code",
   "execution_count": 57,
   "metadata": {
    "collapsed": false
   },
   "outputs": [
    {
     "data": {
      "text/plain": [
       "set()"
      ]
     },
     "execution_count": 57,
     "metadata": {},
     "output_type": "execute_result"
    }
   ],
   "source": [
    "s = []\n",
    "for otu in i:\n",
    "    s.extend(gg97[otu])\n",
    "\n",
    "set(s) & mp_clades['f__Propionibacteriaceae']['suffixes']"
   ]
  },
  {
   "cell_type": "code",
   "execution_count": 62,
   "metadata": {
    "collapsed": false
   },
   "outputs": [
    {
     "name": "stdout",
     "output_type": "stream",
     "text": [
      "218066 [1, 131567, 2, 1783272, 201174, 1760, 85009, 31957, 1743, 135077, 218066]\n",
      "135078 [1, 131567, 2, 1783272, 201174, 1760, 85009, 31957, 1743, 135077, 135078]\n",
      "119981 [1, 131567, 2, 1783272, 201174, 1760, 85009, 31957, 1743, 119981]\n",
      "507370 [1, 131567, 2, 1783272, 201174, 1760, 85009, 31957, 1743, 507370]\n",
      "87459 [1, 131567, 2, 1783272, 201174, 1760, 85009, 31957, 1743, 87459]\n",
      "218066 [1, 131567, 2, 1783272, 201174, 1760, 85009, 31957, 1743, 135077, 218066]\n",
      "556892 [1, 131567, 2, 1783272, 201174, 1760, 85009, 31957, 1743, 556892]\n",
      "218066 [1, 131567, 2, 1783272, 201174, 1760, 85009, 31957, 1743, 135077, 218066]\n",
      "1744 [1, 131567, 2, 1783272, 201174, 1760, 85009, 31957, 1743, 1744]\n",
      "1151595 [1, 131567, 2, 1783272, 201174, 1760, 85009, 31957, 1743, 1151595]\n",
      "392831 [1, 131567, 2, 1783272, 201174, 1760, 85009, 31957, 1743, 392831]\n",
      "671222 [1, 131567, 2, 1783272, 201174, 1760, 85009, 31957, 1743, 671222]\n",
      "64702 [1, 131567, 2, 1783272, 201174, 1760, 85009, 31957, 1743, 64702]\n",
      "1151596 [1, 131567, 2, 1783272, 201174, 1760, 85009, 31957, 1743, 1151596]\n",
      "1151597 [1, 131567, 2, 1783272, 201174, 1760, 85009, 31957, 1743, 1151597]\n",
      "1151593 [1, 131567, 2, 1783272, 201174, 1760, 85009, 31957, 1743, 1151593]\n",
      "1151594 [1, 131567, 2, 1783272, 201174, 1760, 85009, 31957, 1743, 1151594]\n",
      "218066 [1, 131567, 2, 1783272, 201174, 1760, 85009, 31957, 1743, 135077, 218066]\n",
      "243633 [1, 131567, 2, 1783272, 201174, 1760, 85009, 31957, 1743, 243633]\n",
      "999892 [1, 131567, 2, 1783272, 201174, 1760, 85009, 31957, 1743, 1050843, 999892]\n",
      "556499 [1, 131567, 2, 1783272, 201174, 1760, 85009, 31957, 1743, 556499]\n"
     ]
    }
   ],
   "source": [
    "for otu in s:\n",
    "    l = get_lineage(otu, nodes)\n",
    "    if 1743 in l:\n",
    "        print(otu, l)"
   ]
  },
  {
   "cell_type": "code",
   "execution_count": null,
   "metadata": {
    "collapsed": true
   },
   "outputs": [],
   "source": []
  }
 ],
 "metadata": {
  "anaconda-cloud": {},
  "kernelspec": {
   "display_name": "Python [default]",
   "language": "python",
   "name": "python3"
  },
  "language_info": {
   "codemirror_mode": {
    "name": "ipython",
    "version": 3
   },
   "file_extension": ".py",
   "mimetype": "text/x-python",
   "name": "python",
   "nbconvert_exporter": "python",
   "pygments_lexer": "ipython3",
   "version": "3.5.2"
  }
 },
 "nbformat": 4,
 "nbformat_minor": 1
}
